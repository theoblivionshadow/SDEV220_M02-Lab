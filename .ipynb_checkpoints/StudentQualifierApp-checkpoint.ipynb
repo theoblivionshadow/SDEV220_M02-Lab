{
 "cells": [
  {
   "cell_type": "markdown",
   "id": "3ee7b927-8056-432d-8f20-4c38cd1707ea",
   "metadata": {},
   "source": [
    "Shadow R. | StudentQualifierApp.py\n",
    "\n",
    "Desc:\n",
    "App will take user input for student information to determine if student qualifies for the Dean's List or Honor Roll."
   ]
  },
  {
   "cell_type": "markdown",
   "id": "3d3837a4-a7e5-4be9-a354-ae25e7b9c652",
   "metadata": {},
   "source": [
    "Instructions:\n",
    "Write a Python app that will accept student names and GPAs and test if the student qualifies for either the Dean's List or the Honor Roll. Your app will:\n",
    "    ask for and accept a student's last name.\n",
    "    quit processing student records if the last name entered is 'ZZZ'.\n",
    "    ask for and accept a student's first name.\n",
    "    ask for and accept the student's GPA as a float.\n",
    "    test if the student's GPA is 3.5 or greater and, if so, print a message saying that the student has made the Dean's List.\n",
    "    test if the student's GPA is 3.25 or greater and, if so, print a message saying that the studnet has made the Honor Roll.\n",
    "\n",
    "Test your app using at least five students.\n",
    "\n",
    "Your header comments need to contain\n",
    "    Your name\n",
    "    The file name for your app\n",
    "    A brief description of what your app will do"
   ]
  },
  {
   "cell_type": "code",
   "execution_count": 1,
   "id": "12bc1ba1-7879-4716-8cfb-f93efaaf0a8b",
   "metadata": {},
   "outputs": [
    {
     "name": "stdin",
     "output_type": "stream",
     "text": [
      "Please enter student's last name:  Cooper\n",
      "Please enter student's first name:  Nancy\n",
      "Please enter student's GPA:  3.5\n"
     ]
    },
    {
     "name": "stdout",
     "output_type": "stream",
     "text": [
      "Nancy Cooper has made the Dean's List.\n"
     ]
    },
    {
     "name": "stdin",
     "output_type": "stream",
     "text": [
      "Please enter student's last name:  Blackford\n",
      "Please enter student's first name:  Greggory\n",
      "Please enter student's GPA:  3.25\n"
     ]
    },
    {
     "name": "stdout",
     "output_type": "stream",
     "text": [
      "Greggory Blackford has made the Honor Roll.\n"
     ]
    },
    {
     "name": "stdin",
     "output_type": "stream",
     "text": [
      "Please enter student's last name:  Halliwell\n",
      "Please enter student's first name:  Ellen\n",
      "Please enter student's GPA:  4.0\n"
     ]
    },
    {
     "name": "stdout",
     "output_type": "stream",
     "text": [
      "Ellen Halliwell has made the Dean's List.\n"
     ]
    },
    {
     "name": "stdin",
     "output_type": "stream",
     "text": [
      "Please enter student's last name:  Smith\n",
      "Please enter student's first name:  Ann\n",
      "Please enter student's GPA:  3.2\n"
     ]
    },
    {
     "name": "stdout",
     "output_type": "stream",
     "text": [
      "Ann Smith, keep studying! You can do it.\n"
     ]
    },
    {
     "name": "stdin",
     "output_type": "stream",
     "text": [
      "Please enter student's last name:  Smith\n",
      "Please enter student's first name:  John\n",
      "Please enter student's GPA:  3.4\n"
     ]
    },
    {
     "name": "stdout",
     "output_type": "stream",
     "text": [
      "John Smith has made the Honor Roll.\n"
     ]
    },
    {
     "name": "stdin",
     "output_type": "stream",
     "text": [
      "Please enter student's last name:  ZZZ\n"
     ]
    }
   ],
   "source": [
    "'''\n",
    "Author: Shadow R.\n",
    "App Name: StudentQualifierApp.py\n",
    "Purpose:\n",
    "    App will take user input for student information to determine if student qualifies for the Dean's List or Honor Roll.\n",
    "'''\n",
    "\n",
    "# get user input for last name\n",
    "lastName = input(\"Please enter student's last name: \")\n",
    "\n",
    "#loop break condition variable\n",
    "quit = \"ZZZ\"\n",
    "\n",
    "while lastName != quit:\n",
    "    #get user input for first name and GPA\n",
    "    firstName = input(\"Please enter student's first name: \")\n",
    "    gpa = float(input(\"Please enter student's GPA: \"))\n",
    "    \n",
    "    #selection statement to determine student status\n",
    "    if gpa >= 3.5:\n",
    "        print(f\"{firstName} {lastName} has made the Dean's List.\")\n",
    "    elif gpa >= 3.25:\n",
    "        print(f\"{firstName} {lastName} has made the Honor Roll.\")\n",
    "    else:\n",
    "        print(f\"{firstName} {lastName}, keep studying! You can do it.\")\n",
    "    \n",
    "    #get last name from user to continue or exit loop\n",
    "    lastName = input(\"Please enter student's last name: \")"
   ]
  },
  {
   "cell_type": "code",
   "execution_count": null,
   "id": "e18fb52d-141a-4609-af34-64d7863646f3",
   "metadata": {},
   "outputs": [],
   "source": []
  }
 ],
 "metadata": {
  "kernelspec": {
   "display_name": "Python 3 (ipykernel)",
   "language": "python",
   "name": "python3"
  },
  "language_info": {
   "codemirror_mode": {
    "name": "ipython",
    "version": 3
   },
   "file_extension": ".py",
   "mimetype": "text/x-python",
   "name": "python",
   "nbconvert_exporter": "python",
   "pygments_lexer": "ipython3",
   "version": "3.10.9"
  }
 },
 "nbformat": 4,
 "nbformat_minor": 5
}
